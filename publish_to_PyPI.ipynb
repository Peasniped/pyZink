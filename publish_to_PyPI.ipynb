{
 "cells": [
  {
   "cell_type": "markdown",
   "metadata": {},
   "source": [
    "### First Step: Prep work\n",
    "Create an Account on PyPI:  \n",
    "Register at https://pypi.org/account/register/.  \n",
    "Goto <i>Your username</i> > Account Settings > API Tokens, and create a new API token and save it for later.  \n",
    "\n",
    "Run the following snippets of code, that defines commands used for this notebook to function and that installs PyPI packages <i>wheel</i> and <i>twine</i>, both of which are used to build and upload packages to PyPI:"
   ]
  },
  {
   "cell_type": "code",
   "execution_count": null,
   "metadata": {},
   "outputs": [],
   "source": [
    "# Define utility functions used in this notebook\n",
    "\n",
    "import os\n",
    "import shutil\n",
    "import subprocess\n",
    "\n",
    "def run_command(command_str: str) -> None:\n",
    "    command_list = command_str.split(\" \")\n",
    "    result = subprocess.run(command_list, capture_output=True, text=True)\n",
    "\n",
    "    if result.returncode == 0:\n",
    "        print(\"Command successful!\\n\")\n",
    "        print(\"Command output:\\n\", result.stdout)\n",
    "    else:\n",
    "        print(\"Something went wrong!\\n\")\n",
    "        if result.stdout:\n",
    "            print(\"Command output:\\n\", result.stdout, \"\\n\")\n",
    "        print(\"Error:\\n\", result.stderr)\n",
    "\n",
    "def remove_directory(path: str) -> None:\n",
    "    if os.path.exists(path) and os.path.isdir(path):\n",
    "        try:\n",
    "            shutil.rmtree(path)\n",
    "            print(f\"Successfully removed directory: {path}\")\n",
    "        except Exception as e:\n",
    "            print(f\"Error removing directory {path}: {e}\")\n",
    "    else:\n",
    "        print(f\"Directory does not exist: {path}\")"
   ]
  },
  {
   "cell_type": "code",
   "execution_count": null,
   "metadata": {},
   "outputs": [],
   "source": [
    "# Install Dependencies, if not already installed\n",
    "run_command(\"py -m pip install setuptools wheel\")\n",
    "run_command(\"py -m pip install twine\")"
   ]
  },
  {
   "cell_type": "markdown",
   "metadata": {},
   "source": [
    "### Second Step: Build Package\n",
    "Build your package to make it ready to be distributed."
   ]
  },
  {
   "cell_type": "code",
   "execution_count": null,
   "metadata": {},
   "outputs": [],
   "source": [
    "remove_directory(\"build\")\n",
    "remove_directory(\"dist\")\n",
    "remove_directory(\"pyZink.egg-info\")\n",
    "\n",
    "run_command(\"py -m setup sdist bdist_wheel\")"
   ]
  },
  {
   "cell_type": "markdown",
   "metadata": {},
   "source": [
    "### Third Step: Upload Package\n",
    "\n",
    "Upload to PyPI\n",
    "You will be prompted to enter your PyPI API Key.  \n",
    "If using VS Code, the input field will be in the search bar in the top middle of the window."
   ]
  },
  {
   "cell_type": "code",
   "execution_count": null,
   "metadata": {},
   "outputs": [],
   "source": [
    "token = str(input(\"input your PyPI API-token\"))\n",
    "run_command(\"py -m twine upload dist/* -u __token__ -p \" + token)"
   ]
  }
 ],
 "metadata": {
  "kernelspec": {
   "display_name": "Python 3",
   "language": "python",
   "name": "python3"
  },
  "language_info": {
   "codemirror_mode": {
    "name": "ipython",
    "version": 3
   },
   "file_extension": ".py",
   "mimetype": "text/x-python",
   "name": "python",
   "nbconvert_exporter": "python",
   "pygments_lexer": "ipython3",
   "version": "3.11.3"
  }
 },
 "nbformat": 4,
 "nbformat_minor": 2
}
